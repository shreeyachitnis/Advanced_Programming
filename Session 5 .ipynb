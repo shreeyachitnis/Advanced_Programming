{
 "cells": [
  {
   "cell_type": "code",
   "execution_count": 1,
   "id": "4e924ef2",
   "metadata": {},
   "outputs": [],
   "source": [
    "import matplotlib.pyplot as plt\n",
    "import numpy as np\n",
    "import pandas as pd\n",
    "from sklearn.linear_model import LinearRegression\n",
    "from sklearn.metrics import mean_squared_error\n",
    "import statsmodels.api as sm"
   ]
  },
  {
   "cell_type": "code",
   "execution_count": 2,
   "id": "4aaef98e",
   "metadata": {
    "scrolled": true
   },
   "outputs": [
    {
     "data": {
      "text/html": [
       "<div>\n",
       "<style scoped>\n",
       "    .dataframe tbody tr th:only-of-type {\n",
       "        vertical-align: middle;\n",
       "    }\n",
       "\n",
       "    .dataframe tbody tr th {\n",
       "        vertical-align: top;\n",
       "    }\n",
       "\n",
       "    .dataframe thead th {\n",
       "        text-align: right;\n",
       "    }\n",
       "</style>\n",
       "<table border=\"1\" class=\"dataframe\">\n",
       "  <thead>\n",
       "    <tr style=\"text-align: right;\">\n",
       "      <th></th>\n",
       "      <th>Sell</th>\n",
       "      <th>\"List\"</th>\n",
       "      <th>\"Living\"</th>\n",
       "      <th>\"Rooms\"</th>\n",
       "      <th>\"Beds\"</th>\n",
       "      <th>\"Baths\"</th>\n",
       "      <th>\"Age\"</th>\n",
       "      <th>\"Acres\"</th>\n",
       "      <th>\"Taxes\"</th>\n",
       "    </tr>\n",
       "  </thead>\n",
       "  <tbody>\n",
       "    <tr>\n",
       "      <th>0</th>\n",
       "      <td>142</td>\n",
       "      <td>160</td>\n",
       "      <td>28</td>\n",
       "      <td>10</td>\n",
       "      <td>5</td>\n",
       "      <td>3</td>\n",
       "      <td>60</td>\n",
       "      <td>0.28</td>\n",
       "      <td>3167</td>\n",
       "    </tr>\n",
       "    <tr>\n",
       "      <th>1</th>\n",
       "      <td>175</td>\n",
       "      <td>180</td>\n",
       "      <td>18</td>\n",
       "      <td>8</td>\n",
       "      <td>4</td>\n",
       "      <td>1</td>\n",
       "      <td>12</td>\n",
       "      <td>0.43</td>\n",
       "      <td>4033</td>\n",
       "    </tr>\n",
       "    <tr>\n",
       "      <th>2</th>\n",
       "      <td>129</td>\n",
       "      <td>132</td>\n",
       "      <td>13</td>\n",
       "      <td>6</td>\n",
       "      <td>3</td>\n",
       "      <td>1</td>\n",
       "      <td>41</td>\n",
       "      <td>0.33</td>\n",
       "      <td>1471</td>\n",
       "    </tr>\n",
       "    <tr>\n",
       "      <th>3</th>\n",
       "      <td>138</td>\n",
       "      <td>140</td>\n",
       "      <td>17</td>\n",
       "      <td>7</td>\n",
       "      <td>3</td>\n",
       "      <td>1</td>\n",
       "      <td>22</td>\n",
       "      <td>0.46</td>\n",
       "      <td>3204</td>\n",
       "    </tr>\n",
       "    <tr>\n",
       "      <th>4</th>\n",
       "      <td>232</td>\n",
       "      <td>240</td>\n",
       "      <td>25</td>\n",
       "      <td>8</td>\n",
       "      <td>4</td>\n",
       "      <td>3</td>\n",
       "      <td>5</td>\n",
       "      <td>2.05</td>\n",
       "      <td>3613</td>\n",
       "    </tr>\n",
       "    <tr>\n",
       "      <th>5</th>\n",
       "      <td>135</td>\n",
       "      <td>140</td>\n",
       "      <td>18</td>\n",
       "      <td>7</td>\n",
       "      <td>4</td>\n",
       "      <td>3</td>\n",
       "      <td>9</td>\n",
       "      <td>0.57</td>\n",
       "      <td>3028</td>\n",
       "    </tr>\n",
       "    <tr>\n",
       "      <th>6</th>\n",
       "      <td>150</td>\n",
       "      <td>160</td>\n",
       "      <td>20</td>\n",
       "      <td>8</td>\n",
       "      <td>4</td>\n",
       "      <td>3</td>\n",
       "      <td>18</td>\n",
       "      <td>4.00</td>\n",
       "      <td>3131</td>\n",
       "    </tr>\n",
       "    <tr>\n",
       "      <th>7</th>\n",
       "      <td>207</td>\n",
       "      <td>225</td>\n",
       "      <td>22</td>\n",
       "      <td>8</td>\n",
       "      <td>4</td>\n",
       "      <td>2</td>\n",
       "      <td>16</td>\n",
       "      <td>2.22</td>\n",
       "      <td>5158</td>\n",
       "    </tr>\n",
       "    <tr>\n",
       "      <th>8</th>\n",
       "      <td>271</td>\n",
       "      <td>285</td>\n",
       "      <td>30</td>\n",
       "      <td>10</td>\n",
       "      <td>5</td>\n",
       "      <td>2</td>\n",
       "      <td>30</td>\n",
       "      <td>0.53</td>\n",
       "      <td>5702</td>\n",
       "    </tr>\n",
       "    <tr>\n",
       "      <th>9</th>\n",
       "      <td>89</td>\n",
       "      <td>90</td>\n",
       "      <td>10</td>\n",
       "      <td>5</td>\n",
       "      <td>3</td>\n",
       "      <td>1</td>\n",
       "      <td>43</td>\n",
       "      <td>0.30</td>\n",
       "      <td>2054</td>\n",
       "    </tr>\n",
       "  </tbody>\n",
       "</table>\n",
       "</div>"
      ],
      "text/plain": [
       "   Sell   \"List\"   \"Living\"   \"Rooms\"   \"Beds\"   \"Baths\"   \"Age\"   \"Acres\"  \\\n",
       "0   142      160         28        10        5         3      60      0.28   \n",
       "1   175      180         18         8        4         1      12      0.43   \n",
       "2   129      132         13         6        3         1      41      0.33   \n",
       "3   138      140         17         7        3         1      22      0.46   \n",
       "4   232      240         25         8        4         3       5      2.05   \n",
       "5   135      140         18         7        4         3       9      0.57   \n",
       "6   150      160         20         8        4         3      18      4.00   \n",
       "7   207      225         22         8        4         2      16      2.22   \n",
       "8   271      285         30        10        5         2      30      0.53   \n",
       "9    89       90         10         5        3         1      43      0.30   \n",
       "\n",
       "    \"Taxes\"  \n",
       "0      3167  \n",
       "1      4033  \n",
       "2      1471  \n",
       "3      3204  \n",
       "4      3613  \n",
       "5      3028  \n",
       "6      3131  \n",
       "7      5158  \n",
       "8      5702  \n",
       "9      2054  "
      ]
     },
     "execution_count": 2,
     "metadata": {},
     "output_type": "execute_result"
    }
   ],
   "source": [
    "homes = pd.read_csv('data/homes.csv')\n",
    "homes.head(10)\n"
   ]
  },
  {
   "cell_type": "code",
   "execution_count": 3,
   "id": "be280cb3",
   "metadata": {},
   "outputs": [
    {
     "data": {
      "text/html": [
       "<div>\n",
       "<style scoped>\n",
       "    .dataframe tbody tr th:only-of-type {\n",
       "        vertical-align: middle;\n",
       "    }\n",
       "\n",
       "    .dataframe tbody tr th {\n",
       "        vertical-align: top;\n",
       "    }\n",
       "\n",
       "    .dataframe thead th {\n",
       "        text-align: right;\n",
       "    }\n",
       "</style>\n",
       "<table border=\"1\" class=\"dataframe\">\n",
       "  <thead>\n",
       "    <tr style=\"text-align: right;\">\n",
       "      <th></th>\n",
       "      <th>Sell</th>\n",
       "      <th>\"List\"</th>\n",
       "      <th>\"Living\"</th>\n",
       "      <th>\"Rooms\"</th>\n",
       "      <th>\"Beds\"</th>\n",
       "      <th>\"Baths\"</th>\n",
       "      <th>\"Age\"</th>\n",
       "      <th>\"Acres\"</th>\n",
       "      <th>\"Taxes\"</th>\n",
       "    </tr>\n",
       "  </thead>\n",
       "  <tbody>\n",
       "    <tr>\n",
       "      <th>count</th>\n",
       "      <td>50.000000</td>\n",
       "      <td>50.000000</td>\n",
       "      <td>50.000000</td>\n",
       "      <td>50.000000</td>\n",
       "      <td>50.000000</td>\n",
       "      <td>50.000000</td>\n",
       "      <td>50.000000</td>\n",
       "      <td>50.000000</td>\n",
       "      <td>50.000000</td>\n",
       "    </tr>\n",
       "    <tr>\n",
       "      <th>mean</th>\n",
       "      <td>170.360000</td>\n",
       "      <td>178.340000</td>\n",
       "      <td>21.120000</td>\n",
       "      <td>8.060000</td>\n",
       "      <td>3.820000</td>\n",
       "      <td>1.860000</td>\n",
       "      <td>30.220000</td>\n",
       "      <td>1.020600</td>\n",
       "      <td>3706.100000</td>\n",
       "    </tr>\n",
       "    <tr>\n",
       "      <th>std</th>\n",
       "      <td>72.755885</td>\n",
       "      <td>79.382723</td>\n",
       "      <td>8.351072</td>\n",
       "      <td>1.284285</td>\n",
       "      <td>0.690755</td>\n",
       "      <td>0.756199</td>\n",
       "      <td>30.962314</td>\n",
       "      <td>1.191496</td>\n",
       "      <td>1579.915268</td>\n",
       "    </tr>\n",
       "    <tr>\n",
       "      <th>min</th>\n",
       "      <td>87.000000</td>\n",
       "      <td>90.000000</td>\n",
       "      <td>10.000000</td>\n",
       "      <td>5.000000</td>\n",
       "      <td>3.000000</td>\n",
       "      <td>1.000000</td>\n",
       "      <td>2.000000</td>\n",
       "      <td>0.220000</td>\n",
       "      <td>1445.000000</td>\n",
       "    </tr>\n",
       "    <tr>\n",
       "      <th>25%</th>\n",
       "      <td>135.000000</td>\n",
       "      <td>140.000000</td>\n",
       "      <td>17.000000</td>\n",
       "      <td>7.000000</td>\n",
       "      <td>3.000000</td>\n",
       "      <td>1.000000</td>\n",
       "      <td>12.250000</td>\n",
       "      <td>0.382500</td>\n",
       "      <td>3107.000000</td>\n",
       "    </tr>\n",
       "    <tr>\n",
       "      <th>50%</th>\n",
       "      <td>152.000000</td>\n",
       "      <td>160.000000</td>\n",
       "      <td>20.000000</td>\n",
       "      <td>8.000000</td>\n",
       "      <td>4.000000</td>\n",
       "      <td>2.000000</td>\n",
       "      <td>24.500000</td>\n",
       "      <td>0.550000</td>\n",
       "      <td>3490.000000</td>\n",
       "    </tr>\n",
       "    <tr>\n",
       "      <th>75%</th>\n",
       "      <td>182.250000</td>\n",
       "      <td>190.000000</td>\n",
       "      <td>22.750000</td>\n",
       "      <td>9.000000</td>\n",
       "      <td>4.000000</td>\n",
       "      <td>2.000000</td>\n",
       "      <td>37.000000</td>\n",
       "      <td>1.182500</td>\n",
       "      <td>3919.250000</td>\n",
       "    </tr>\n",
       "    <tr>\n",
       "      <th>max</th>\n",
       "      <td>567.000000</td>\n",
       "      <td>625.000000</td>\n",
       "      <td>64.000000</td>\n",
       "      <td>12.000000</td>\n",
       "      <td>6.000000</td>\n",
       "      <td>4.000000</td>\n",
       "      <td>202.000000</td>\n",
       "      <td>6.490000</td>\n",
       "      <td>12192.000000</td>\n",
       "    </tr>\n",
       "  </tbody>\n",
       "</table>\n",
       "</div>"
      ],
      "text/plain": [
       "             Sell      \"List\"   \"Living\"    \"Rooms\"     \"Beds\"    \"Baths\"  \\\n",
       "count   50.000000   50.000000  50.000000  50.000000  50.000000  50.000000   \n",
       "mean   170.360000  178.340000  21.120000   8.060000   3.820000   1.860000   \n",
       "std     72.755885   79.382723   8.351072   1.284285   0.690755   0.756199   \n",
       "min     87.000000   90.000000  10.000000   5.000000   3.000000   1.000000   \n",
       "25%    135.000000  140.000000  17.000000   7.000000   3.000000   1.000000   \n",
       "50%    152.000000  160.000000  20.000000   8.000000   4.000000   2.000000   \n",
       "75%    182.250000  190.000000  22.750000   9.000000   4.000000   2.000000   \n",
       "max    567.000000  625.000000  64.000000  12.000000   6.000000   4.000000   \n",
       "\n",
       "            \"Age\"    \"Acres\"       \"Taxes\"  \n",
       "count   50.000000  50.000000     50.000000  \n",
       "mean    30.220000   1.020600   3706.100000  \n",
       "std     30.962314   1.191496   1579.915268  \n",
       "min      2.000000   0.220000   1445.000000  \n",
       "25%     12.250000   0.382500   3107.000000  \n",
       "50%     24.500000   0.550000   3490.000000  \n",
       "75%     37.000000   1.182500   3919.250000  \n",
       "max    202.000000   6.490000  12192.000000  "
      ]
     },
     "execution_count": 3,
     "metadata": {},
     "output_type": "execute_result"
    }
   ],
   "source": [
    "homes.describe()"
   ]
  },
  {
   "cell_type": "markdown",
   "id": "df1ba374",
   "metadata": {},
   "source": [
    "The dataset is about housing, and the first thing I noticed was that the selling price is not in propostion to the taxes, hence I am assuming it is in thousands of dollars. The Rooms variable seems to be the total number of beds, baths, living room and kitchen. There are 50 observations in the dataset. "
   ]
  },
  {
   "cell_type": "code",
   "execution_count": 4,
   "id": "5d28f393",
   "metadata": {},
   "outputs": [],
   "source": [
    "homes['Sell'] = homes['Sell']*1000  # assuming the selling price is in thousands of dollars and scaling it so that its in proportion with the taxes\n"
   ]
  },
  {
   "cell_type": "code",
   "execution_count": 5,
   "id": "a822b14d",
   "metadata": {},
   "outputs": [
    {
     "data": {
      "image/png": "[encoded data removed]",
      "text/plain": [
       "<Figure size 1000x600 with 1 Axes>"
      ]
     },
     "metadata": {},
     "output_type": "display_data"
    }
   ],
   "source": [
    "# EDA Technique 1: Histogram\n",
    "plt.figure(figsize=(10, 6))\n",
    "plt.hist(homes['Sell'], bins=10, color='skyblue', edgecolor='black')\n",
    "plt.title('Histogram of Sell Prices')\n",
    "plt.xlabel('Sell Price')\n",
    "plt.ylabel('Frequency')\n",
    "plt.grid(True)\n",
    "plt.show()\n",
    "\n"
   ]
  },
  {
   "cell_type": "markdown",
   "id": "04604681",
   "metadata": {},
   "source": [
    "The purpose of this EDA is to analyze the distribution of selling price of houses. This would show us how the selling price is distributed across the dataset. We can see that the maximum selling price is around 150000 dollars. "
   ]
  },
  {
   "cell_type": "code",
   "execution_count": 6,
   "id": "98496098",
   "metadata": {},
   "outputs": [
    {
     "data": {
      "image/png": "[encoded data removed]",
      "text/plain": [
       "<Figure size 800x600 with 1 Axes>"
      ]
     },
     "metadata": {},
     "output_type": "display_data"
    }
   ],
   "source": [
    "# EDA Technique 2: Scatter Plot\n",
    "plt.figure(figsize=(8, 6))\n",
    "plt.scatter(homes[' \"Taxes\"'], homes['Sell'], color='salmon', alpha=0.8)\n",
    "plt.title('Scatter Plot: Taxes vs Sell Price')\n",
    "plt.xlabel('Taxes')\n",
    "plt.ylabel('Sell Price')\n",
    "plt.grid(True)\n",
    "plt.show()\n",
    "\n"
   ]
  },
  {
   "cell_type": "markdown",
   "id": "edfbfb4f",
   "metadata": {},
   "source": [
    "This is a scatter plot of selling price vs taxes. As pretty much expected we can see a positive linear trend where the taxes increase with the selling price which means a positive correlation. "
   ]
  },
  {
   "cell_type": "code",
   "execution_count": 7,
   "id": "88000a8c",
   "metadata": {
    "scrolled": true
   },
   "outputs": [
    {
     "data": {
      "image/png": "[encoded data removed]",
      "text/plain": [
       "<Figure size 800x600 with 1 Axes>"
      ]
     },
     "metadata": {},
     "output_type": "display_data"
    }
   ],
   "source": [
    "# EDA Technique 3: Box Plot\n",
    "plt.figure(figsize=(8, 6))\n",
    "homes[[' \"Rooms\"',' \"Beds\"',' \"Baths\"']].boxplot()\n",
    "plt.title('Box Plot of Rooms, Beds, and Baths')\n",
    "plt.ylabel('Count')\n",
    "plt.xlabel('Features')\n",
    "plt.grid(True)\n",
    "plt.show()"
   ]
  },
  {
   "cell_type": "markdown",
   "id": "22bda56f",
   "metadata": {},
   "source": [
    "This is a box plot for rooms, beds and baths to see the variation for these variables across the dataset. We can see that on an average, there are 8 rooms in total, 4 beds and 2 baths in the dataset. "
   ]
  },
  {
   "cell_type": "code",
   "execution_count": 8,
   "id": "6501a63a",
   "metadata": {},
   "outputs": [
    {
     "name": "stdout",
     "output_type": "stream",
     "text": [
      "Intercept: 16871.87910246174\n",
      "Coefficient for Taxes: 41.414997139186276\n"
     ]
    }
   ],
   "source": [
    "#fitting the model with taxes\n",
    "X = homes[[' \"Taxes\"']]  \n",
    "y = homes['Sell']      \n",
    "\n",
    "# Create and fit the linear regression model\n",
    "model1 = LinearRegression()\n",
    "model1.fit(X, y)\n",
    "\n",
    "# Display the model coefficients\n",
    "print(\"Intercept:\", model1.intercept_)\n",
    "print(\"Coefficient for Taxes:\", model1.coef_[0])"
   ]
  },
  {
   "cell_type": "markdown",
   "id": "77d33c8d",
   "metadata": {},
   "source": [
    "The intercept represents the value of the dependent variable (Selling Price) when all independent variables (Taxes) are set to zero. Even though there is a positive correlation between Taxes and Selling Price, we cannot say if it is a good indicator, because we can determine that from a small data set. We are also not considering the other variables in this regression. We need more data and more variables to say if the model is better or not."
   ]
  },
  {
   "cell_type": "code",
   "execution_count": 9,
   "id": "f96cbb15",
   "metadata": {},
   "outputs": [
    {
     "data": {
      "text/plain": [
       "31492.964512226576"
      ]
     },
     "execution_count": 9,
     "metadata": {},
     "output_type": "execute_result"
    }
   ],
   "source": [
    "model1.predict(X)[:10]\n",
    "mean_squared_error(y,model1.predict(X))**0.5"
   ]
  },
  {
   "cell_type": "code",
   "execution_count": 10,
   "id": "c292ddd6",
   "metadata": {},
   "outputs": [
    {
     "name": "stdout",
     "output_type": "stream",
     "text": [
      "Intercept: 35526.09067579129\n",
      "Coefficient for Beds: 35296.83490162532\n"
     ]
    }
   ],
   "source": [
    "#fitting the model with beds\n",
    "X = homes[[' \"Beds\"']]  \n",
    "y = homes['Sell']      \n",
    "\n",
    "# Create and fit the linear regression model\n",
    "model2 = LinearRegression()\n",
    "model2.fit(X, y)\n",
    "\n",
    "# Display the model coefficients\n",
    "print(\"Intercept:\", model2.intercept_)\n",
    "print(\"Coefficient for Beds:\", model2.coef_[0])"
   ]
  },
  {
   "cell_type": "code",
   "execution_count": 11,
   "id": "a5165be2",
   "metadata": {},
   "outputs": [
    {
     "data": {
      "text/plain": [
       "67860.02652015143"
      ]
     },
     "execution_count": 11,
     "metadata": {},
     "output_type": "execute_result"
    }
   ],
   "source": [
    "model2.predict(X)[:10]\n",
    "mean_squared_error(y,model2.predict(X))**0.5"
   ]
  },
  {
   "cell_type": "markdown",
   "id": "c70f95ba",
   "metadata": {},
   "source": [
    "The other variable that I have used instead of Taxes is Beds. Again, we cannot really say if any one of the two models is better because we are just using one variable for prediction and the observations in the dataset are pretty less. But if we had to compare the two models to each other, we can look at the Mean Squared Error value. For the model with Taxes as the predictor, the MSE value is less in comparison to the model with Beds as the predictor which means that that the first model is better than the second. "
   ]
  },
  {
   "cell_type": "code",
   "execution_count": null,
   "id": "cdedda3c",
   "metadata": {},
   "outputs": [],
   "source": []
  }
 ],
 "metadata": {
  "kernelspec": {
   "display_name": "Python 3 (ipykernel)",
   "language": "python",
   "name": "python3"
  },
  "language_info": {
   "codemirror_mode": {
    "name": "ipython",
    "version": 3
   },
   "file_extension": ".py",
   "mimetype": "text/x-python",
   "name": "python",
   "nbconvert_exporter": "python",
   "pygments_lexer": "ipython3",
   "version": "3.11.5"
  }
 },
 "nbformat": 4,
 "nbformat_minor": 5
}
