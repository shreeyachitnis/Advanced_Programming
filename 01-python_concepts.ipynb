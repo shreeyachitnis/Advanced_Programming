{
 "cells": [
  {
   "cell_type": "markdown",
   "id": "9383bafa",
   "metadata": {},
   "source": [
    "### Python Programming Concepts"
   ]
  },
  {
   "cell_type": "markdown",
   "id": "17df7d6e",
   "metadata": {},
   "source": [
    "#### 1. Create a variable to store the value 500 for sales"
   ]
  },
  {
   "cell_type": "code",
   "execution_count": 1,
   "id": "a5f43c2f",
   "metadata": {},
   "outputs": [
    {
     "name": "stdout",
     "output_type": "stream",
     "text": [
      "500\n"
     ]
    }
   ],
   "source": [
    "sales = 500\n",
    "print(sales)"
   ]
  },
  {
   "cell_type": "markdown",
   "id": "6dc8b9ea",
   "metadata": {},
   "source": [
    "#### 2. Create a variable to store several values:  \n",
    "* sales: 500, 475, 625\n",
    "* integers 1 - 9 "
   ]
  },
  {
   "cell_type": "code",
   "execution_count": 2,
   "id": "902fe3bd",
   "metadata": {},
   "outputs": [],
   "source": [
    "sales= [500,475,625]\n",
    "integers= [1,2,3,4,5,6,7,8,9]"
   ]
  },
  {
   "cell_type": "markdown",
   "id": "62e55953",
   "metadata": {},
   "source": [
    "#### 3. Create a variable to store the names and email addresses for a number of customers\n",
    "* John, john@some.com; Ann, ann@some.com"
   ]
  },
  {
   "cell_type": "code",
   "execution_count": 7,
   "id": "03f2b161",
   "metadata": {},
   "outputs": [
    {
     "name": "stdout",
     "output_type": "stream",
     "text": [
      "{'Name': 'John', 'Email': 'john@some.com'}\n"
     ]
    }
   ],
   "source": [
    "customers= [{'Name':'John','Email':\"john@some.com\"},{'Name':'ann','Email':\"ann@some.com\"}]\n",
    "print(customers[0])"
   ]
  },
  {
   "cell_type": "markdown",
   "id": "d6b1e8c6",
   "metadata": {},
   "source": [
    "#### 4. Use Python to generate a random value based on each of following:\n",
    "1. between 0 and 1\n",
    "2. the standard normal distribution (rounded to two decimal places)\n",
    "3. a value between 1 and 10\n",
    "4. either H or T"
   ]
  },
  {
   "cell_type": "code",
   "execution_count": 9,
   "id": "f004d7b5",
   "metadata": {},
   "outputs": [],
   "source": [
    "import random "
   ]
  },
  {
   "cell_type": "code",
   "execution_count": 10,
   "id": "a8efc6fc",
   "metadata": {},
   "outputs": [
    {
     "name": "stdout",
     "output_type": "stream",
     "text": [
      "0.6263211547858492\n"
     ]
    }
   ],
   "source": [
    "myrandom= random.random()\n",
    "print(myrandom)"
   ]
  },
  {
   "cell_type": "code",
   "execution_count": 11,
   "id": "1a29e601",
   "metadata": {},
   "outputs": [
    {
     "name": "stdout",
     "output_type": "stream",
     "text": [
      "4\n"
     ]
    }
   ],
   "source": [
    "myrandom= random.randrange(1,10)\n",
    "print(myrandom)"
   ]
  },
  {
   "cell_type": "code",
   "execution_count": 12,
   "id": "3a150c3e",
   "metadata": {},
   "outputs": [
    {
     "data": {
      "text/plain": [
       "-0.024856795930170622"
      ]
     },
     "execution_count": 12,
     "metadata": {},
     "output_type": "execute_result"
    }
   ],
   "source": [
    "random.gauss(0,1)"
   ]
  },
  {
   "cell_type": "code",
   "execution_count": 16,
   "id": "f80f4b3b",
   "metadata": {},
   "outputs": [
    {
     "data": {
      "text/plain": [
       "'T'"
      ]
     },
     "execution_count": 16,
     "metadata": {},
     "output_type": "execute_result"
    }
   ],
   "source": [
    "myrandom= random.choice(['H','T'])\n",
    "myrandom"
   ]
  },
  {
   "cell_type": "code",
   "execution_count": null,
   "id": "bdb52b86",
   "metadata": {},
   "outputs": [],
   "source": []
  },
  {
   "cell_type": "markdown",
   "id": "7eddf06a",
   "metadata": {},
   "source": [
    "#### 5. Use Python to determine your current working directory"
   ]
  },
  {
   "cell_type": "code",
   "execution_count": 17,
   "id": "d8f79474",
   "metadata": {},
   "outputs": [
    {
     "data": {
      "text/plain": [
       "['.git',\n",
       " '.ipynb_checkpoints',\n",
       " '01-python_concepts.ipynb',\n",
       " '02-basic_numpy.ipynb']"
      ]
     },
     "execution_count": 17,
     "metadata": {},
     "output_type": "execute_result"
    }
   ],
   "source": [
    "import os\n",
    "os.getcwd()\n",
    "os.listdir()\n",
    "#os.chdir('..') moves up a folder in directory "
   ]
  },
  {
   "cell_type": "markdown",
   "id": "fc43ec50",
   "metadata": {},
   "source": [
    "#### 6. Use Python to determine how many days until New Year's Day"
   ]
  },
  {
   "cell_type": "code",
   "execution_count": 18,
   "id": "13f630fe",
   "metadata": {},
   "outputs": [
    {
     "data": {
      "text/plain": [
       "datetime.timedelta(days=347)"
      ]
     },
     "execution_count": 18,
     "metadata": {},
     "output_type": "execute_result"
    }
   ],
   "source": [
    "import datetime as dt\n",
    "today=dt.date.today()\n",
    "daytony=dt.date(2025,1,1)\n",
    "daytony-today"
   ]
  },
  {
   "cell_type": "markdown",
   "id": "2ba4ea92",
   "metadata": {},
   "source": [
    "#### 7. Write a short program that displays the future value of 1,000 earning 5%  at the end of each year for the next 5 years"
   ]
  },
  {
   "cell_type": "code",
   "execution_count": 20,
   "id": "6fef4a8c",
   "metadata": {},
   "outputs": [
    {
     "name": "stdout",
     "output_type": "stream",
     "text": [
      "1 1050.0\n",
      "2 1102.5\n",
      "3 1157.6250000000002\n",
      "4 1215.5062500000001\n",
      "5 1276.2815625000003\n"
     ]
    }
   ],
   "source": [
    "pv = 1000\n",
    "rate= 0.05\n",
    "year= 5\n",
    "for year in range(1,year+1):\n",
    "    print(year,pv*((1+rate)**year))"
   ]
  },
  {
   "cell_type": "markdown",
   "id": "150201c8",
   "metadata": {},
   "source": [
    "#### 8. Write a short program that prompts a user to enter a stock symbol and press enter. Add each symbol entered to a variable. The program should run until the user presses the enter key without entering anything (empty string) "
   ]
  },
  {
   "cell_type": "code",
   "execution_count": 21,
   "id": "931a346f",
   "metadata": {},
   "outputs": [
    {
     "name": "stdout",
     "output_type": "stream",
     "text": [
      "enter stock symbol or press enter to quit3\n",
      "enter stock symbol or press enter to quit4\n",
      "enter stock symbol or press enter to quit$\n",
      "enter stock symbol or press enter to quit\n",
      "['3', '4', '$']\n"
     ]
    }
   ],
   "source": [
    "stocks=[]\n",
    "while True:\n",
    "    symbol= input(\"enter stock symbol or press enter to quit\")\n",
    "    if symbol == '':\n",
    "        break\n",
    "    stocks.append(symbol)\n",
    "print(stocks)"
   ]
  },
  {
   "cell_type": "markdown",
   "id": "fc2a7592",
   "metadata": {},
   "source": [
    "#### 9. Write the code necessary to calculate the sum of the square differences of a group of values : \n",
    "58, 32, 37, 41, 36, 36, 54, 37, 25, 53\n",
    "##### $\\Sigma $(${x}$ - $\\bar{x}$)$^2$"
   ]
  },
  {
   "cell_type": "code",
   "execution_count": 22,
   "id": "380fd958",
   "metadata": {},
   "outputs": [
    {
     "name": "stdout",
     "output_type": "stream",
     "text": [
      "40.9\n",
      "1020.9000000000001\n"
     ]
    }
   ],
   "source": [
    "numbers=[58, 32, 37, 41, 36, 36, 54, 37, 25, 53]\n",
    "average=sum(numbers)/len(numbers)\n",
    "print(average)\n",
    "ols=[]\n",
    "for i in numbers:\n",
    "    value=(i-average)**2\n",
    "    ols.append(value)\n",
    "\n",
    "print(sum(ols))"
   ]
  },
  {
   "cell_type": "markdown",
   "id": "6d6f2e64",
   "metadata": {},
   "source": [
    "#### 10. Opening, reading and writing files"
   ]
  },
  {
   "cell_type": "code",
   "execution_count": 37,
   "id": "f7fa569d",
   "metadata": {},
   "outputs": [
    {
     "name": "stdout",
     "output_type": "stream",
     "text": [
      "File contents:\n",
      " They're selling postcards of the hanging, they're painting the passports brown\n",
      "The beauty parlor is filled with sailors, the circus is in town\n",
      "Here comes the blind commissioner, they've got him in a trance\n",
      "One hand is tied to the tight-rope walker, the other is in his pants\n",
      "And the riot squad they're restless, they need somewhere to go\n",
      "As Lady and I look out tonight, from Desolation Row\n",
      "Cinderella, she seems so easy, \"It takes one to know one, \" she smiles\n",
      "And puts her hands in her back pockets Bette Davis style\n",
      "And in comes Romeo, he's moaning. \"You Belong to Me I Believe\"\n",
      "And someone says, \"You're in the wrong place, my friend, you'd better leave\"\n",
      "And the only sound that's left after the ambulances go\n",
      "Is Cinderella sweeping up on Desolation Row\n",
      "Now the moon is almost hidden, the stars are beginning to hide\n",
      "The fortune telling lady has even taken all her things inside\n",
      "All except for Cain and Abel and the hunchback of Notre Dame\n",
      "Everybody is making love or else expecting rain\n",
      "And the Good Samaritan, he's dressing, he's getting ready for the show\n",
      "He's going to the carnival tonight on Desolation Row\n",
      "Ophelia, she's 'neath the window for her I feel so afraid\n",
      "On her twenty-second birthday she already is an old maid\n",
      "To her, death is quite romantic she wears an iron vest\n",
      "Her profession's her religion, her sin is her lifelessness\n",
      "And though her eyes are fixed upon Noah's great rainbow\n",
      "She spends her time peeking into Desolation Row\n",
      "Einstein, disguised as Robin Hood with his memories in a trunk\n",
      "Passed this way an hour ago with his friend, a jealous monk\n",
      "Now he looked so immaculately frightful as he bummed a cigarette\n",
      "And he when off sniffing drainpipes and reciting the alphabet\n",
      "You would not think to look at him, but he was famous long ago\n",
      "For playing the electric violin on Desolation Row\n",
      "Dr. Filth, he keeps his world inside of a leather cup\n",
      "But all his sexless patients, they're trying to blow it up\n",
      "Now his nurse, some local loser, she's in charge of the cyanide hole\n",
      "And she also keeps the cards that read, \"Have Mercy on His Soul\"\n",
      "They all play on the penny whistles, you can hear them blow\n",
      "If you lean your head out far enough from Desolation Row\n",
      "Across the street they've nailed the curtains, they're getting ready for the feast\n",
      "The Phantom of the Opera in a perfect image of a priest\n",
      "They are spoon feeding Casanova to get him to feel more assured\n",
      "Then they'll kill him with self-confidence after poisoning him with words\n",
      "And the Phantom's shouting to skinny girls, \"Get outta here if you don't know\"\n",
      "Casanova is just being punished for going to Desolation Row\"\n",
      "At midnight all the agents and the superhuman crew\n",
      "Come out and round up everyone that knows more than they do\n",
      "Then they bring them to the factory where the heart-attack machine\n",
      "Is strapped across their shoulders and then the kerosene\n",
      "Is brought down from the castles by insurance men who go\n",
      "Check to see that nobody is escaping to Desolation Row\n",
      "Praise be to Nero's Neptune, the Titanic sails at dawn\n",
      "Everybody's shouting, \"Which side are you on?!\"\n",
      "And Ezra Pound and T.S. Eliot fighting in the captain's tower\n",
      "While calypso singers laugh at them and fishermen hold flowers\n",
      "Between the windows of the sea where lovely mermaids flow\n",
      "And nobody has to think too much about Desolation Row\n",
      "Yes, I received your letter yesterday, about the time the doorknob broke\n",
      "When you asked me how I was doing, was that some kind of joke\n",
      "All these people that you mention, yes, I know them, they're quite lame\n",
      "I had to rearrange their faces and give them all another name\n",
      "Right now, I can't read too good, don't send me no more letters no\n",
      "Not unless you mail them from Desolation Row\n"
     ]
    },
    {
     "data": {
      "text/plain": [
       "str"
      ]
     },
     "execution_count": 37,
     "metadata": {},
     "output_type": "execute_result"
    }
   ],
   "source": [
    "file_path = r\"C:\\Users\\cshre\\OneDrive - Babson College\\Shreeya\\Semester 2\\Advanced Programming\\OIM7502_SP24\\data\\desolation_row.txt\"  # Replace with the actual path to your file\n",
    "\n",
    "try:\n",
    "    with open(file_path, 'r') as file:\n",
    "        file_contents = file.read()\n",
    "        print(\"File contents:\\n\", file_contents)\n",
    "except FileNotFoundError:\n",
    "    print(f\"File not found at path: {file_path}\")\n",
    "except Exception as e:\n",
    "    print(f\"An error occurred: {e}\")\n",
    "\n",
    "type(file_contents)\n"
   ]
  },
  {
   "cell_type": "markdown",
   "id": "eec548d6",
   "metadata": {},
   "source": [
    "#### 11. Create a function the will simulate rolling two die and return the value of each and and the sum "
   ]
  },
  {
   "cell_type": "code",
   "execution_count": 28,
   "id": "bb115cdc",
   "metadata": {},
   "outputs": [],
   "source": [
    "import random\n",
    "def rollingdice():\n",
    "    die1= int(random.randrange(1,6))\n",
    "    die2= int(random.randrange(1,6))\n",
    "    sumofvalues=die1+die2\n",
    "    print(die1,die2,sumofvalues)\n",
    "    return die1,die2,sumofvalues\n"
   ]
  },
  {
   "cell_type": "code",
   "execution_count": 29,
   "id": "b9d18f1f",
   "metadata": {},
   "outputs": [
    {
     "name": "stdout",
     "output_type": "stream",
     "text": [
      "1 4 5\n"
     ]
    },
    {
     "data": {
      "text/plain": [
       "(1, 4, 5)"
      ]
     },
     "execution_count": 29,
     "metadata": {},
     "output_type": "execute_result"
    }
   ],
   "source": [
    "rollingdice()"
   ]
  },
  {
   "cell_type": "markdown",
   "id": "21556d7f",
   "metadata": {},
   "source": [
    "#### 12. Write the code needed to evaluate whether a value in a group of values is negative or postive and prints an approriate message, i.e. postive, negative \n",
    "-1.59, 2.36, 1.69, 1.13, -0.91, 1.48, -0.34, 1.31, -0.74, 0.2"
   ]
  },
  {
   "cell_type": "code",
   "execution_count": 30,
   "id": "d6c38ecb",
   "metadata": {},
   "outputs": [
    {
     "name": "stdout",
     "output_type": "stream",
     "text": [
      "-1.59 the number is negative\n",
      "2.36 the number is positive\n",
      "1.69 the number is positive\n",
      "1.13 the number is positive\n",
      "-0.91 the number is negative\n",
      "1.48 the number is positive\n",
      "-0.34 the number is negative\n",
      "1.31 the number is positive\n",
      "-0.74 the number is negative\n",
      "0.2 the number is positive\n"
     ]
    }
   ],
   "source": [
    "values=[-1.59, 2.36, 1.69, 1.13, -0.91, 1.48, -0.34, 1.31, -0.74, 0.2]\n",
    "for i in values:\n",
    "    if i>0:\n",
    "        print(i,\"the number is positive\")\n",
    "    else:\n",
    "        print(i,\"the number is negative\")"
   ]
  },
  {
   "cell_type": "code",
   "execution_count": null,
   "id": "aaefba17",
   "metadata": {},
   "outputs": [],
   "source": []
  },
  {
   "cell_type": "markdown",
   "id": "8cafe65c",
   "metadata": {},
   "source": [
    "#### 14.  Complete the following:\n",
    "1. Write a program that generates 500 random integers from 1 to n, for example, the first integer will be 1 the second will be 1 or 2, the fifth between 1 and 5, and so on.\n",
    "2. The program should write each integer to a file \n",
    "3. Once all integers are written close the file\n",
    "\n",
    "##### Part 2\n",
    "1. Open and read the file into a list\n",
    "2. Create a line plot of the data"
   ]
  },
  {
   "cell_type": "code",
   "execution_count": 31,
   "id": "60a910bb",
   "metadata": {},
   "outputs": [
    {
     "name": "stdout",
     "output_type": "stream",
     "text": [
      "500 random integers generated and written to random_integers.txt\n"
     ]
    }
   ],
   "source": [
    "import random\n",
    "\n",
    "def generate_random_integers(n, num_integers, file_name):\n",
    "    with open(file_name, 'w') as file:\n",
    "        for _ in range(num_integers):\n",
    "            random_integer = random.randint(1, n)\n",
    "            file.write(str(random_integer) + '\\n')\n",
    "\n",
    "if __name__ == \"__main__\":\n",
    "    n = 10  # You can change this value to set the upper limit of the range (1 to n)\n",
    "    num_integers = 500\n",
    "    file_name = \"random_integers.txt\"\n",
    "\n",
    "    generate_random_integers(n, num_integers, file_name)\n",
    "\n",
    "    print(f\"{num_integers} random integers generated and written to {file_name}\")\n",
    "\n",
    "    \n",
    "    # Read the file into a list\n",
    "    data_list = read_file_into_list(file_name)\n",
    "\n",
    "    # Create a line plot of the data\n",
    "    create_line_plot(data_list)"
   ]
  },
  {
   "cell_type": "code",
   "execution_count": 32,
   "id": "d6b4180c",
   "metadata": {},
   "outputs": [],
   "source": []
  },
  {
   "cell_type": "code",
   "execution_count": 38,
   "id": "adb6aa11",
   "metadata": {},
   "outputs": [
    {
     "name": "stdout",
     "output_type": "stream",
     "text": [
      "500 random integers generated and written to random_integers.txt\n"
     ]
    },
    {
     "data": {
      "image/png": "[encoded data removed]",
      "text/plain": [
       "<Figure size 640x480 with 1 Axes>"
      ]
     },
     "metadata": {},
     "output_type": "display_data"
    }
   ],
   "source": [
    "import random\n",
    "import matplotlib.pyplot as plt\n",
    "\n",
    "def generate_random_integers(n, num_integers, file_name):\n",
    "    with open(file_name, 'w') as file:\n",
    "        for _ in range(num_integers):\n",
    "            random_integer = random.randint(1, n)\n",
    "            file.write(str(random_integer) + '\\n')\n",
    "\n",
    "def read_file_into_list(file_name):\n",
    "    with open(file_name, 'r') as file:\n",
    "        integers_list = [int(line.strip()) for line in file]\n",
    "    return integers_list\n",
    "\n",
    "def create_line_plot(data):\n",
    "    plt.plot(data)\n",
    "    plt.title(\"Line Plot of Random Integers\")\n",
    "    plt.xlabel(\"Index\")\n",
    "    plt.ylabel(\"Random Integer Value\")\n",
    "    plt.show()\n",
    "\n",
    "if __name__ == \"__main__\":\n",
    "    n = 10  # You can change this value to set the upper limit of the range (1 to n)\n",
    "    num_integers = 500\n",
    "    file_name = \"random_integers.txt\"\n",
    "\n",
    "    generate_random_integers(n, num_integers, file_name)\n",
    "\n",
    "    print(f\"{num_integers} random integers generated and written to {file_name}\")\n",
    "\n",
    "    # Read the file into a list\n",
    "    data_list = read_file_into_list(file_name)\n",
    "\n",
    "    # Create a line plot of the data\n",
    "    create_line_plot(data_list)\n"
   ]
  },
  {
   "cell_type": "code",
   "execution_count": null,
   "id": "6745da79",
   "metadata": {},
   "outputs": [],
   "source": []
  },
  {
   "cell_type": "code",
   "execution_count": null,
   "id": "21140445",
   "metadata": {},
   "outputs": [],
   "source": []
  },
  {
   "cell_type": "code",
   "execution_count": null,
   "id": "3d546600",
   "metadata": {},
   "outputs": [],
   "source": []
  }
 ],
 "metadata": {
  "kernelspec": {
   "display_name": "Python 3 (ipykernel)",
   "language": "python",
   "name": "python3"
  },
  "language_info": {
   "codemirror_mode": {
    "name": "ipython",
    "version": 3
   },
   "file_extension": ".py",
   "mimetype": "text/x-python",
   "name": "python",
   "nbconvert_exporter": "python",
   "pygments_lexer": "ipython3",
   "version": "3.11.5"
  }
 },
 "nbformat": 4,
 "nbformat_minor": 5
}
